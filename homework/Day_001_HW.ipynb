{
 "cells": [
  {
   "cell_type": "markdown",
   "metadata": {},
   "source": [
    "# [作業1]\n",
    "## 練習時間\n",
    "#### 請寫一個函式用來計算 Mean Square Error\n",
    "$ MSE = \\frac{1}{n}\\sum_{i=1}^{n}{(Y_i - \\hat{Y}_i)^2} $\n",
    "\n",
    "### Hint: [如何取平方](https://googoodesign.gitbooks.io/-ezpython/unit-1.html)"
   ]
  },
  {
   "cell_type": "markdown",
   "metadata": {},
   "source": [
    "# [作業目標]\n",
    "- 仿造範例的MAE函數, 自己寫一個MSE函數(參考上面公式)"
   ]
  },
  {
   "cell_type": "markdown",
   "metadata": {},
   "source": [
    "# [作業重點]\n",
    "- 注意程式的縮排\n",
    "- 是否能將數學公式, 轉換為 Python 的函式組合? (In[2], Out[2])"
   ]
  },
  {
   "cell_type": "code",
   "execution_count": 9,
   "metadata": {},
   "outputs": [],
   "source": [
    "# 載入基礎套件與代稱\n",
    "import numpy as np\n",
    "import matplotlib.pyplot as plt"
   ]
  },
  {
   "cell_type": "code",
   "execution_count": 10,
   "metadata": {},
   "outputs": [],
   "source": [
    "def mean_absolute_error(y, yp):\n",
    "    \"\"\"\n",
    "    計算 MAE\n",
    "    Args:\n",
    "        - y: 實際值\n",
    "        - yp: 預測值\n",
    "    Return:\n",
    "        - mae: MAE\n",
    "    \"\"\"\n",
    "    mae = MAE = sum(abs(y - yp)) / len(y)\n",
    "    return mae\n",
    "\n",
    "# 定義 mean_squared_error 這個函數, 計算並傳回 MSE\n",
    "def mean_squared_error():\n",
    "    \"\"\"\n",
    "    請完成這個 Function 後往下執行\n",
    "    \"\"\""
   ]
  },
  {
   "cell_type": "code",
   "execution_count": 11,
   "metadata": {},
   "outputs": [
    {
     "data": {
      "image/png": "[encoded data removed]",
      "text/plain": [
       "<Figure size 432x288 with 1 Axes>"
      ]
     },
     "metadata": {
      "needs_background": "light"
     },
     "output_type": "display_data"
    }
   ],
   "source": [
    "# 與範例相同, 不另外解說\n",
    "w = 3\n",
    "b = 0.5\n",
    "x_lin = np.linspace(0, 100, 101)\n",
    "y = (x_lin + np.random.randn(101) * 5) * w + b\n",
    "\n",
    "plt.plot(x_lin, y, 'b.', label = 'data points')\n",
    "plt.title(\"Assume we have data points\")\n",
    "plt.legend(loc = 2)\n",
    "plt.show()"
   ]
  },
  {
   "cell_type": "code",
   "execution_count": 12,
   "metadata": {},
   "outputs": [
    {
     "data": {
      "image/png": "[encoded data removed]",
      "text/plain": [
       "<Figure size 432x288 with 1 Axes>"
      ]
     },
     "metadata": {
      "needs_background": "light"
     },
     "output_type": "display_data"
    }
   ],
   "source": [
    "# 與範例相同, 不另外解說\n",
    "y_hat = x_lin * w + b\n",
    "plt.plot(x_lin, y, 'b.', label = 'data')\n",
    "plt.plot(x_lin, y_hat, 'r-', label = 'prediction')\n",
    "plt.title(\"Assume we have data points (And the prediction)\")\n",
    "plt.legend(loc = 2)\n",
    "plt.show()"
   ]
  },
  {
   "cell_type": "code",
   "execution_count": 14,
   "metadata": {},
   "outputs": [
    {
     "name": "stdout",
     "output_type": "stream",
     "text": [
      "The Mean squared error is 205.311\n",
      "The Mean absolute error is 11.278\n"
     ]
    }
   ],
   "source": [
    "# 執行 Function, 確認有沒有正常執行\n",
    "\n",
    "def mean_squared_error(y, yp):\n",
    "    mse = sum((y - yp)**2) / len(y)\n",
    "    return mse\n",
    "\n",
    "def mean_absolute_error(y, yp):\n",
    "    mae = sum(abs(y - yp)) / len(y)\n",
    "    return mae\n",
    "\n",
    "MSE = mean_squared_error(y, y_hat)\n",
    "MAE = mean_absolute_error(y, y_hat)\n",
    "print(\"The Mean squared error is %.3f\" % (MSE))\n",
    "print(\"The Mean absolute error is %.3f\" % (MAE))"
   ]
  },
  {
   "cell_type": "markdown",
   "metadata": {},
   "source": [
    "# [作業2]\n",
    "\n",
    "請上 Kaggle, 在 Competitions 或 Dataset 中找一組競賽或資料並寫下：\n",
    "\n",
    "1. 你選的這組資料為何重要\n",
    "\n",
    "    *我選擇的題目是: IEEE-CIS Fraud Detection\n",
    "    由於我的背景是EC，非常了解信用卡偽冒交易不論在實體或虛擬商場中的破壞力，銀行與各商家的相關從業人員對於魔高一尺.道高一丈的盜刷行為頭痛不已，若能協助推進信用卡偽冒交易的精確程度將是非常有價值的；\n",
    "    至於他的資料欄位,包含了交易時間,金額甚至持卡人的基本資料相關資訊近400個欄位，主要資料表近50萬筆，應足以作相關預測分析。*\n",
    "    \n",
    "\n",
    "2. 資料從何而來 (tips: 譬如提供者是誰、以什麼方式蒐集)\n",
    "\n",
    "    *資料提供單位是Vesta，其為EC支付解決方案的先驅，每年經手的交易規模超過18億美元，可信任且具有代表性。這些資料紀錄都是Vesta支付解決方案的用戶，在申請信用卡及每次交易當下所產生。*\n",
    "    \n",
    "\n",
    "3. 蒐集而來的資料型態為何\n",
    "\n",
    "    *資料型態是經過整理的數據及文字資料，欄位如下:*\n",
    "    \n",
    "    *Transaction Table*\n",
    "    \n",
    "    *TransactionDT: timedelta from a given reference datetime (not an actual timestamp)*\n",
    "    \n",
    "    *TransactionAMT: transaction payment amount in USD*\n",
    "    \n",
    "    *ProductCD: product code, the product for each transaction*\n",
    "    \n",
    "    *card1 - card6: payment card information, such as card type, card category, issue bank, country, etc.*\n",
    "    \n",
    "    *addr: address*\n",
    "    \n",
    "    *dist: distance*\n",
    "    \n",
    "    *P_ and (R__) emaildomain: purchaser and recipient email domain*\n",
    "    \n",
    "    *C1-C14: counting, such as how many addresses are found to be associated with the payment card, etc. The actual meaning is masked.*\n",
    "    \n",
    "    *D1-D15: timedelta, such as days between previous transaction, etc.*\n",
    "    \n",
    "    *M1-M9: match, such as names on card and address, etc.*\n",
    "    \n",
    "    *Vxxx: Vesta engineered rich features, including ranking, counting, and other entity relations.*\n",
    "    \n",
    "    *是相對結構化的表格，但內含像是地址等較非結構的文字內容，需要進一步分析。*\n",
    "\n",
    "\n",
    "4. 這組資料想解決的問題如何評估\n",
    "\n",
    "    *在此比賽是以ROC曲線下面積來評估模型準確性。*\n",
    "    \n",
    "\n",
    "\n",
    "# [作業3]\n",
    "\n",
    "想像你經營一個自由載客車隊，你希望能透過數據分析以提升業績，請你思考並描述你如何規劃整體的分析/解決方案：\n",
    "\n",
    "1. 核心問題為何 (tips：如何定義 「提升業績 & 你的假設」)\n",
    "\n",
    "    *一般計程車費用的訂價規則如下:*\n",
    "    \n",
    "    *1.乘坐距離 2.乘坐時段 3.乘坐地點*\n",
    "    \n",
    "    *因此我假設提升業績必須要:*\n",
    "    \n",
    "    *1.盡可能接到乘坐距離較長的客人，讓利潤最大化*\n",
    "    \n",
    "    *2.乘坐時段的影響力如深夜沒有其他替代交通方案時訂價較高，需解決夜間時段等高價時段調度問題，讓利潤最大化*\n",
    "    \n",
    "    *3.乘坐地點可能在商辦或住宅區.旅遊地點的機會較高，需決定調派地點讓利潤最大化*\n",
    "\n",
    "\n",
    "2. 資料從何而來 (tips：哪些資料可能會對你想問的問題產生影響 & 資料如何蒐集)\n",
    "\n",
    "    *1.車隊平常累積的資料(乘坐距離.乘坐時段.乘坐地點等)*\n",
    "    \n",
    "    *2.Open Data (如交通流量.都市規劃區域.國定假日資訊. 公共交通工具時刻表等)*\n",
    "    \n",
    "    *3.蒐集相關競爭行業資料 (網路蒐集客運公司班表. 或於公共場域中觀察蒐集)*\n",
    "    \n",
    "\n",
    "3. 蒐集而來的資料型態為何\n",
    "    \n",
    "    *1.車隊累積資料(多為結構化的數據及文字內容)*\n",
    "    \n",
    "    *2.Open Data (會包含數據.圖像及文字. 都市規劃圖像與公交時刻表非結構化的狀況多)*\n",
    "    \n",
    "    *3.競業資料蒐集(公眾場域的錄影紀錄為非結構畫的資料)*\n",
    "    \n",
    "\n",
    "4. 你要回答的問題，其如何評估 (tips：你的假設如何驗證)\n",
    "\n",
    "    *我的假設是在機場等大型交通樞紐，接駁旅客的距離較長，以及夜間等時段收費高較容易被接受，因此將地點與時間等交易相關資訊蒐集好後，設定一個較目前收費高的標準，建立一個模型來判斷是否交易紀錄的收費高於此標準。*\n",
    "    \n",
    "    *評估的方式可用MAE。*"
   ]
  },
  {
   "cell_type": "code",
   "execution_count": null,
   "metadata": {},
   "outputs": [],
   "source": []
  }
 ],
 "metadata": {
  "anaconda-cloud": {},
  "kernelspec": {
   "display_name": "Python 3",
   "language": "python",
   "name": "python3"
  },
  "language_info": {
   "codemirror_mode": {
    "name": "ipython",
    "version": 3
   },
   "file_extension": ".py",
   "mimetype": "text/x-python",
   "name": "python",
   "nbconvert_exporter": "python",
   "pygments_lexer": "ipython3",
   "version": "3.7.3"
  }
 },
 "nbformat": 4,
 "nbformat_minor": 1
}
